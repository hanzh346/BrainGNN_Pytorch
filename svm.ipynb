{
 "cells": [
  {
   "cell_type": "code",
   "execution_count": 14,
   "metadata": {},
   "outputs": [
    {
     "name": "stdout",
     "output_type": "stream",
     "text": [
      "Evaluating pair: ('CN', 'CN')\n"
     ]
    },
    {
     "name": "stderr",
     "output_type": "stream",
     "text": [
      "/home/hang/GitHub/BrainGNN_Pytorch/fetch_hang_ADNI_data.py:91: DtypeWarning: Columns (19,20,21,50,51,104,105,106) have mixed types. Specify dtype option on import or set low_memory=False.\n",
      "  ADNI_merge = pd.read_csv('/media/hang/EXTERNAL_US/Data/1_HANG_FDG_PET/ADNIMERGE_30Jan2024.csv')\n"
     ]
    },
    {
     "name": "stdout",
     "output_type": "stream",
     "text": [
      "Baseline not identical to followup in subject 035_S_4256 of ab long 0 and ab bl [1]\n",
      "Baseline not identical to followup in subject 072_S_4226 of ab long 0 and ab bl [1]\n",
      "Baseline not identical to followup in subject 116_S_4898 of ab long 0 and ab bl [1]\n",
      "Baseline not identical to followup in subject 128_S_4553 of ab long 0 and ab bl [1]\n",
      "Baseline not identical to followup in subject 153_S_4838 of ab long 0 and ab bl [1]\n",
      "Baseline not identical to followup in subject 006_S_4449 of ab long 0 and ab bl [1]\n",
      "Baseline not identical to followup in subject 014_S_4093 of ab long 0 and ab bl [1]\n",
      "Baseline not identical to followup in subject 020_S_5203 of ab long 0 and ab bl [1]\n",
      "Baseline not identical to followup in subject 032_S_4429 of ab long 0 and ab bl [1]\n",
      "Baseline not identical to followup in subject 053_S_4578 of ab long 0 and ab bl [1]\n",
      "Baseline not identical to followup in subject 053_S_5287 of ab long 0 and ab bl [1]\n",
      "Baseline not identical to followup in subject 127_S_4843 of ab long 0 and ab bl [1]\n",
      "Baseline not identical to followup in subject 941_S_4255 of ab long 0 and ab bl [1]\n",
      "Baseline not identical to followup in subject 941_S_5124 of ab long 0 and ab bl [1]\n",
      "Baseline not identical to followup in subject 003_S_4555 of ab long 1 and ab bl [0]\n",
      "Baseline not identical to followup in subject 024_S_4223 of ab long 0 and ab bl [1]\n",
      "Baseline not identical to followup in subject 024_S_4280 of ab long 0 and ab bl [1]\n",
      "Unique value counts in binary labels after resampling: {1: 39, 0: 39}\n",
      "['002_S_4213', '003_S_4119', '003_S_4644', '003_S_4900', '003_S_5150', '003_S_5154', '006_S_4150', '006_S_4357', '006_S_5153', '007_S_4387', '007_S_4488', '007_S_4516', '010_S_4345', '011_S_4075', '011_S_4222', '013_S_5137', '013_S_5171', '016_S_4097', '016_S_4951', '016_S_4952', '019_S_4367', '019_S_5242', '020_S_5140', '021_S_4276', '021_S_4421', '021_S_4558', '021_S_5129', '021_S_5194', '022_S_4173', '023_S_4020', '023_S_4164', '023_S_4448', '024_S_4084', '027_S_5079', '027_S_5083', '027_S_5093', '027_S_5110', '027_S_5170', '027_S_5288', '029_S_4279', '029_S_4384', '029_S_4585', '029_S_5158', '031_S_4021', '031_S_4032', '031_S_4496', '035_S_4082', '036_S_4389', '036_S_4491', '036_S_4878', '036_S_5248', '036_S_5271', '037_S_4028', '037_S_4308', '037_S_5222', '041_S_4200', '041_S_4427', '041_S_5078', '041_S_5082', '041_S_5100', '041_S_5131', '041_S_5141', '041_S_5244', '067_S_5159', '068_S_4340', '072_S_4103', '072_S_4391', '073_S_4382', '073_S_4393', '073_S_4559', '073_S_4739', '073_S_4762', '073_S_5167', '082_S_4090', '082_S_4208', '082_S_4224', '082_S_5279', '094_S_4503', '094_S_4560', '098_S_4018', '098_S_4050', '100_S_4469', '100_S_5075', '100_S_5091', '100_S_5280', '116_S_4043', '116_S_4453', '116_S_4483', '126_S_5243', '127_S_4604', '127_S_5200', '127_S_5218', '127_S_5228', '127_S_5266', '128_S_4586', '128_S_4599', '128_S_4609', '128_S_4832', '130_S_5175', '135_S_4598', '135_S_5113', '136_S_4269', '137_S_4466', '153_S_4125', '153_S_4139', '153_S_4372', '941_S_4066', '941_S_5193']\n",
      "Cross-Validation Accuracy: 0.43 ± 0.10\n",
      "Sensitivity: 0.49 ± 0.16\n",
      "Specificity: 0.38 ± 0.15\n",
      "Scores for ScaledMahalanobisDistanceMatrix ('CN', 'CN'): Accuracy: 0.43, Sensitivity: 0.49, Specificity: 0.38\n",
      "Evaluating pair: ('CN', 'Dementia')\n"
     ]
    },
    {
     "name": "stderr",
     "output_type": "stream",
     "text": [
      "/home/hang/GitHub/BrainGNN_Pytorch/fetch_hang_ADNI_data.py:91: DtypeWarning: Columns (19,20,21,50,51,104,105,106) have mixed types. Specify dtype option on import or set low_memory=False.\n",
      "  ADNI_merge = pd.read_csv('/media/hang/EXTERNAL_US/Data/1_HANG_FDG_PET/ADNIMERGE_30Jan2024.csv')\n"
     ]
    },
    {
     "name": "stdout",
     "output_type": "stream",
     "text": [
      "Baseline not identical to followup in subject 035_S_4256 of ab long 0 and ab bl [1]\n",
      "Baseline not identical to followup in subject 072_S_4226 of ab long 0 and ab bl [1]\n",
      "Baseline not identical to followup in subject 116_S_4898 of ab long 0 and ab bl [1]\n",
      "Baseline not identical to followup in subject 128_S_4553 of ab long 0 and ab bl [1]\n",
      "Baseline not identical to followup in subject 153_S_4838 of ab long 0 and ab bl [1]\n",
      "Baseline not identical to followup in subject 006_S_4449 of ab long 0 and ab bl [1]\n",
      "Baseline not identical to followup in subject 014_S_4093 of ab long 0 and ab bl [1]\n",
      "Baseline not identical to followup in subject 020_S_5203 of ab long 0 and ab bl [1]\n",
      "Baseline not identical to followup in subject 032_S_4429 of ab long 0 and ab bl [1]\n",
      "Baseline not identical to followup in subject 053_S_4578 of ab long 0 and ab bl [1]\n",
      "Baseline not identical to followup in subject 053_S_5287 of ab long 0 and ab bl [1]\n",
      "Baseline not identical to followup in subject 127_S_4843 of ab long 0 and ab bl [1]\n",
      "Baseline not identical to followup in subject 941_S_4255 of ab long 0 and ab bl [1]\n",
      "Baseline not identical to followup in subject 941_S_5124 of ab long 0 and ab bl [1]\n",
      "Baseline not identical to followup in subject 003_S_4555 of ab long 1 and ab bl [0]\n",
      "Baseline not identical to followup in subject 024_S_4223 of ab long 0 and ab bl [1]\n",
      "Baseline not identical to followup in subject 024_S_4280 of ab long 0 and ab bl [1]\n",
      "Unique value counts in binary labels after resampling: {0: 100, 1: 100}\n",
      "['002_S_4213', '003_S_4119', '003_S_4644', '003_S_4900', '003_S_5150', '003_S_5154', '006_S_4150', '006_S_4357', '006_S_5153', '007_S_4387', '007_S_4488', '007_S_4516', '010_S_4345', '011_S_4075', '011_S_4222', '013_S_5137', '013_S_5171', '016_S_4097', '016_S_4951', '016_S_4952', '019_S_4367', '019_S_5242', '020_S_5140', '021_S_4276', '021_S_4421', '021_S_4558', '021_S_5129', '021_S_5194', '022_S_4173', '023_S_4020', '023_S_4164', '023_S_4448', '024_S_4084', '027_S_5079', '027_S_5083', '027_S_5093', '027_S_5110', '027_S_5170', '027_S_5288', '029_S_4279', '029_S_4384', '029_S_4585', '029_S_5158', '031_S_4021', '031_S_4032', '031_S_4496', '035_S_4082', '036_S_4389', '036_S_4491', '036_S_4878', '036_S_5248', '036_S_5271', '037_S_4028', '037_S_4308', '037_S_5222', '041_S_4200', '041_S_4427', '041_S_5078', '041_S_5082', '041_S_5100', '041_S_5131', '041_S_5141', '041_S_5244', '067_S_5159', '068_S_4340', '072_S_4103', '072_S_4391', '073_S_4382', '073_S_4393', '073_S_4559', '073_S_4739', '073_S_4762', '073_S_5167', '082_S_4090', '082_S_4208', '082_S_4224', '082_S_5279', '094_S_4503', '094_S_4560', '098_S_4018', '098_S_4050', '100_S_4469', '100_S_5075', '100_S_5091', '100_S_5280', '116_S_4043', '116_S_4453', '116_S_4483', '126_S_5243', '127_S_4604', '127_S_5200', '127_S_5218', '127_S_5228', '127_S_5266', '128_S_4586', '128_S_4599', '128_S_4609', '128_S_4832', '130_S_5175', '135_S_4598', '135_S_5113', '136_S_4269', '137_S_4466', '153_S_4125', '153_S_4139', '153_S_4372', '941_S_4066', '941_S_5193']\n",
      "Cross-Validation Accuracy: 0.68 ± 0.07\n",
      "Sensitivity: 0.58 ± 0.14\n",
      "Specificity: 0.77 ± 0.07\n",
      "Scores for ScaledMahalanobisDistanceMatrix ('CN', 'Dementia'): Accuracy: 0.68, Sensitivity: 0.58, Specificity: 0.77\n",
      "Evaluating pair: ('CN', 'MCI')\n"
     ]
    },
    {
     "name": "stderr",
     "output_type": "stream",
     "text": [
      "/home/hang/GitHub/BrainGNN_Pytorch/fetch_hang_ADNI_data.py:91: DtypeWarning: Columns (19,20,21,50,51,104,105,106) have mixed types. Specify dtype option on import or set low_memory=False.\n",
      "  ADNI_merge = pd.read_csv('/media/hang/EXTERNAL_US/Data/1_HANG_FDG_PET/ADNIMERGE_30Jan2024.csv')\n"
     ]
    },
    {
     "name": "stdout",
     "output_type": "stream",
     "text": [
      "Baseline not identical to followup in subject 035_S_4256 of ab long 0 and ab bl [1]\n",
      "Baseline not identical to followup in subject 072_S_4226 of ab long 0 and ab bl [1]\n",
      "Baseline not identical to followup in subject 116_S_4898 of ab long 0 and ab bl [1]\n",
      "Baseline not identical to followup in subject 128_S_4553 of ab long 0 and ab bl [1]\n",
      "Baseline not identical to followup in subject 153_S_4838 of ab long 0 and ab bl [1]\n",
      "Baseline not identical to followup in subject 006_S_4449 of ab long 0 and ab bl [1]\n",
      "Baseline not identical to followup in subject 014_S_4093 of ab long 0 and ab bl [1]\n",
      "Baseline not identical to followup in subject 020_S_5203 of ab long 0 and ab bl [1]\n",
      "Baseline not identical to followup in subject 032_S_4429 of ab long 0 and ab bl [1]\n",
      "Baseline not identical to followup in subject 053_S_4578 of ab long 0 and ab bl [1]\n",
      "Baseline not identical to followup in subject 053_S_5287 of ab long 0 and ab bl [1]\n",
      "Baseline not identical to followup in subject 127_S_4843 of ab long 0 and ab bl [1]\n",
      "Baseline not identical to followup in subject 941_S_4255 of ab long 0 and ab bl [1]\n",
      "Baseline not identical to followup in subject 941_S_5124 of ab long 0 and ab bl [1]\n",
      "Baseline not identical to followup in subject 003_S_4555 of ab long 1 and ab bl [0]\n",
      "Baseline not identical to followup in subject 024_S_4223 of ab long 0 and ab bl [1]\n",
      "Baseline not identical to followup in subject 024_S_4280 of ab long 0 and ab bl [1]\n",
      "Unique value counts in binary labels after resampling: {1: 52, 0: 52}\n",
      "['002_S_4213', '003_S_4119', '003_S_4644', '003_S_4900', '003_S_5150', '003_S_5154', '006_S_4150', '006_S_4357', '006_S_5153', '007_S_4387', '007_S_4488', '007_S_4516', '010_S_4345', '011_S_4075', '011_S_4222', '013_S_5137', '013_S_5171', '016_S_4097', '016_S_4951', '016_S_4952', '019_S_4367', '019_S_5242', '020_S_5140', '021_S_4276', '021_S_4421', '021_S_4558', '021_S_5129', '021_S_5194', '022_S_4173', '023_S_4020', '023_S_4164', '023_S_4448', '024_S_4084', '027_S_5079', '027_S_5083', '027_S_5093', '027_S_5110', '027_S_5170', '027_S_5288', '029_S_4279', '029_S_4384', '029_S_4585', '029_S_5158', '031_S_4021', '031_S_4032', '031_S_4496', '035_S_4082', '036_S_4389', '036_S_4491', '036_S_4878', '036_S_5248', '036_S_5271', '037_S_4028', '037_S_4308', '037_S_5222', '041_S_4200', '041_S_4427', '041_S_5078', '041_S_5082', '041_S_5100', '041_S_5131', '041_S_5141', '041_S_5244', '067_S_5159', '068_S_4340', '072_S_4103', '072_S_4391', '073_S_4382', '073_S_4393', '073_S_4559', '073_S_4739', '073_S_4762', '073_S_5167', '082_S_4090', '082_S_4208', '082_S_4224', '082_S_5279', '094_S_4503', '094_S_4560', '098_S_4018', '098_S_4050', '100_S_4469', '100_S_5075', '100_S_5091', '100_S_5280', '116_S_4043', '116_S_4453', '116_S_4483', '126_S_5243', '127_S_4604', '127_S_5200', '127_S_5218', '127_S_5228', '127_S_5266', '128_S_4586', '128_S_4599', '128_S_4609', '128_S_4832', '130_S_5175', '135_S_4598', '135_S_5113', '136_S_4269', '137_S_4466', '153_S_4125', '153_S_4139', '153_S_4372', '941_S_4066', '941_S_5193']\n",
      "Cross-Validation Accuracy: 0.59 ± 0.09\n",
      "Sensitivity: 0.48 ± 0.08\n",
      "Specificity: 0.69 ± 0.12\n",
      "Scores for ScaledMahalanobisDistanceMatrix ('CN', 'MCI'): Accuracy: 0.59, Sensitivity: 0.48, Specificity: 0.69\n",
      "Evaluating pair: ('MCI', 'Dementia')\n"
     ]
    },
    {
     "name": "stderr",
     "output_type": "stream",
     "text": [
      "/home/hang/GitHub/BrainGNN_Pytorch/fetch_hang_ADNI_data.py:91: DtypeWarning: Columns (19,20,21,50,51,104,105,106) have mixed types. Specify dtype option on import or set low_memory=False.\n",
      "  ADNI_merge = pd.read_csv('/media/hang/EXTERNAL_US/Data/1_HANG_FDG_PET/ADNIMERGE_30Jan2024.csv')\n"
     ]
    },
    {
     "name": "stdout",
     "output_type": "stream",
     "text": [
      "Baseline not identical to followup in subject 035_S_4256 of ab long 0 and ab bl [1]\n",
      "Baseline not identical to followup in subject 072_S_4226 of ab long 0 and ab bl [1]\n",
      "Baseline not identical to followup in subject 116_S_4898 of ab long 0 and ab bl [1]\n",
      "Baseline not identical to followup in subject 128_S_4553 of ab long 0 and ab bl [1]\n",
      "Baseline not identical to followup in subject 153_S_4838 of ab long 0 and ab bl [1]\n",
      "Baseline not identical to followup in subject 006_S_4449 of ab long 0 and ab bl [1]\n",
      "Baseline not identical to followup in subject 014_S_4093 of ab long 0 and ab bl [1]\n",
      "Baseline not identical to followup in subject 020_S_5203 of ab long 0 and ab bl [1]\n",
      "Baseline not identical to followup in subject 032_S_4429 of ab long 0 and ab bl [1]\n",
      "Baseline not identical to followup in subject 053_S_4578 of ab long 0 and ab bl [1]\n",
      "Baseline not identical to followup in subject 053_S_5287 of ab long 0 and ab bl [1]\n",
      "Baseline not identical to followup in subject 127_S_4843 of ab long 0 and ab bl [1]\n",
      "Baseline not identical to followup in subject 941_S_4255 of ab long 0 and ab bl [1]\n",
      "Baseline not identical to followup in subject 941_S_5124 of ab long 0 and ab bl [1]\n",
      "Baseline not identical to followup in subject 003_S_4555 of ab long 1 and ab bl [0]\n",
      "Baseline not identical to followup in subject 024_S_4223 of ab long 0 and ab bl [1]\n",
      "Baseline not identical to followup in subject 024_S_4280 of ab long 0 and ab bl [1]\n",
      "Unique value counts in binary labels after resampling: {0: 52, 1: 52}\n",
      "['002_S_4447', '002_S_4473', '003_S_4524', '006_S_4679', '007_S_4467', '007_S_4611', '011_S_4235', '013_S_4985', '016_S_4646', '016_S_5007', '021_S_4744', '022_S_4805', '023_S_4034', '023_S_4241', '024_S_4392', '024_S_4674', '027_S_4804', '027_S_4955', '029_S_4327', '031_S_4590', '036_S_4562', '036_S_4736', '037_S_4146', '041_S_4510', '053_S_4557', '057_S_4897', '057_S_4909', '068_S_4134', '068_S_4431', '072_S_4007', '073_S_4259', '073_S_4311', '073_S_4403', '073_S_4614', '082_S_5014', '094_S_4858', '098_S_4059', '116_S_4635', '123_S_4170', '123_S_4904', '126_S_4743', '128_S_4636', '129_S_4073', '129_S_4287', '130_S_4405', '135_S_4309', '136_S_4408', '137_S_4852', '153_S_4297', '941_S_4377', '941_S_4420', '941_S_4764']\n",
      "Cross-Validation Accuracy: 0.46 ± 0.13\n",
      "Sensitivity: 0.38 ± 0.15\n",
      "Specificity: 0.54 ± 0.12\n",
      "Scores for ScaledMahalanobisDistanceMatrix ('MCI', 'Dementia'): Accuracy: 0.46, Sensitivity: 0.38, Specificity: 0.54\n",
      "Evaluating pair: ('CN', 'CN')\n"
     ]
    },
    {
     "name": "stderr",
     "output_type": "stream",
     "text": [
      "/home/hang/GitHub/BrainGNN_Pytorch/fetch_hang_ADNI_data.py:91: DtypeWarning: Columns (19,20,21,50,51,104,105,106) have mixed types. Specify dtype option on import or set low_memory=False.\n",
      "  ADNI_merge = pd.read_csv('/media/hang/EXTERNAL_US/Data/1_HANG_FDG_PET/ADNIMERGE_30Jan2024.csv')\n"
     ]
    },
    {
     "name": "stdout",
     "output_type": "stream",
     "text": [
      "Baseline not identical to followup in subject 035_S_4256 of ab long 0 and ab bl [1]\n",
      "Baseline not identical to followup in subject 072_S_4226 of ab long 0 and ab bl [1]\n",
      "Baseline not identical to followup in subject 116_S_4898 of ab long 0 and ab bl [1]\n",
      "Baseline not identical to followup in subject 128_S_4553 of ab long 0 and ab bl [1]\n",
      "Baseline not identical to followup in subject 153_S_4838 of ab long 0 and ab bl [1]\n",
      "Baseline not identical to followup in subject 006_S_4449 of ab long 0 and ab bl [1]\n",
      "Baseline not identical to followup in subject 014_S_4093 of ab long 0 and ab bl [1]\n",
      "Baseline not identical to followup in subject 020_S_5203 of ab long 0 and ab bl [1]\n",
      "Baseline not identical to followup in subject 032_S_4429 of ab long 0 and ab bl [1]\n",
      "Baseline not identical to followup in subject 053_S_4578 of ab long 0 and ab bl [1]\n",
      "Baseline not identical to followup in subject 053_S_5287 of ab long 0 and ab bl [1]\n",
      "Baseline not identical to followup in subject 127_S_4843 of ab long 0 and ab bl [1]\n",
      "Baseline not identical to followup in subject 941_S_4255 of ab long 0 and ab bl [1]\n",
      "Baseline not identical to followup in subject 941_S_5124 of ab long 0 and ab bl [1]\n",
      "Baseline not identical to followup in subject 003_S_4555 of ab long 1 and ab bl [0]\n",
      "Baseline not identical to followup in subject 024_S_4223 of ab long 0 and ab bl [1]\n",
      "Baseline not identical to followup in subject 024_S_4280 of ab long 0 and ab bl [1]\n",
      "Unique value counts in binary labels after resampling: {1: 39, 0: 39}\n",
      "['002_S_4213', '003_S_4119', '003_S_4644', '003_S_4900', '003_S_5150', '003_S_5154', '006_S_4150', '006_S_4357', '006_S_5153', '007_S_4387', '007_S_4488', '007_S_4516', '010_S_4345', '011_S_4075', '011_S_4222', '013_S_5137', '013_S_5171', '016_S_4097', '016_S_4951', '016_S_4952', '019_S_4367', '019_S_5242', '020_S_5140', '021_S_4276', '021_S_4421', '021_S_4558', '021_S_5129', '021_S_5194', '022_S_4173', '023_S_4020', '023_S_4164', '023_S_4448', '024_S_4084', '027_S_5079', '027_S_5083', '027_S_5093', '027_S_5110', '027_S_5170', '027_S_5288', '029_S_4279', '029_S_4384', '029_S_4585', '029_S_5158', '031_S_4021', '031_S_4032', '031_S_4496', '035_S_4082', '036_S_4389', '036_S_4491', '036_S_4878', '036_S_5248', '036_S_5271', '037_S_4028', '037_S_4308', '037_S_5222', '041_S_4200', '041_S_4427', '041_S_5078', '041_S_5082', '041_S_5100', '041_S_5131', '041_S_5141', '041_S_5244', '067_S_5159', '068_S_4340', '072_S_4103', '072_S_4391', '073_S_4382', '073_S_4393', '073_S_4559', '073_S_4739', '073_S_4762', '073_S_5167', '082_S_4090', '082_S_4208', '082_S_4224', '082_S_5279', '094_S_4503', '094_S_4560', '098_S_4018', '098_S_4050', '100_S_4469', '100_S_5075', '100_S_5091', '100_S_5280', '116_S_4043', '116_S_4453', '116_S_4483', '126_S_5243', '127_S_4604', '127_S_5200', '127_S_5218', '127_S_5228', '127_S_5266', '128_S_4586', '128_S_4599', '128_S_4609', '128_S_4832', '130_S_5175', '135_S_4598', '135_S_5113', '136_S_4269', '137_S_4466', '153_S_4125', '153_S_4139', '153_S_4372', '941_S_4066', '941_S_5193']\n",
      "Cross-Validation Accuracy: 0.45 ± 0.05\n",
      "Sensitivity: 0.36 ± 0.06\n",
      "Specificity: 0.54 ± 0.12\n",
      "Scores for Z_scoring ('CN', 'CN'): Accuracy: 0.45, Sensitivity: 0.36, Specificity: 0.54\n",
      "Evaluating pair: ('CN', 'Dementia')\n"
     ]
    },
    {
     "name": "stderr",
     "output_type": "stream",
     "text": [
      "/home/hang/GitHub/BrainGNN_Pytorch/fetch_hang_ADNI_data.py:91: DtypeWarning: Columns (19,20,21,50,51,104,105,106) have mixed types. Specify dtype option on import or set low_memory=False.\n",
      "  ADNI_merge = pd.read_csv('/media/hang/EXTERNAL_US/Data/1_HANG_FDG_PET/ADNIMERGE_30Jan2024.csv')\n"
     ]
    },
    {
     "name": "stdout",
     "output_type": "stream",
     "text": [
      "Baseline not identical to followup in subject 035_S_4256 of ab long 0 and ab bl [1]\n",
      "Baseline not identical to followup in subject 072_S_4226 of ab long 0 and ab bl [1]\n",
      "Baseline not identical to followup in subject 116_S_4898 of ab long 0 and ab bl [1]\n",
      "Baseline not identical to followup in subject 128_S_4553 of ab long 0 and ab bl [1]\n",
      "Baseline not identical to followup in subject 153_S_4838 of ab long 0 and ab bl [1]\n",
      "Baseline not identical to followup in subject 006_S_4449 of ab long 0 and ab bl [1]\n",
      "Baseline not identical to followup in subject 014_S_4093 of ab long 0 and ab bl [1]\n",
      "Baseline not identical to followup in subject 020_S_5203 of ab long 0 and ab bl [1]\n",
      "Baseline not identical to followup in subject 032_S_4429 of ab long 0 and ab bl [1]\n",
      "Baseline not identical to followup in subject 053_S_4578 of ab long 0 and ab bl [1]\n",
      "Baseline not identical to followup in subject 053_S_5287 of ab long 0 and ab bl [1]\n",
      "Baseline not identical to followup in subject 127_S_4843 of ab long 0 and ab bl [1]\n",
      "Baseline not identical to followup in subject 941_S_4255 of ab long 0 and ab bl [1]\n",
      "Baseline not identical to followup in subject 941_S_5124 of ab long 0 and ab bl [1]\n",
      "Baseline not identical to followup in subject 003_S_4555 of ab long 1 and ab bl [0]\n",
      "Baseline not identical to followup in subject 024_S_4223 of ab long 0 and ab bl [1]\n",
      "Baseline not identical to followup in subject 024_S_4280 of ab long 0 and ab bl [1]\n",
      "Unique value counts in binary labels after resampling: {0: 100, 1: 100}\n",
      "['002_S_4213', '003_S_4119', '003_S_4644', '003_S_4900', '003_S_5150', '003_S_5154', '006_S_4150', '006_S_4357', '006_S_5153', '007_S_4387', '007_S_4488', '007_S_4516', '010_S_4345', '011_S_4075', '011_S_4222', '013_S_5137', '013_S_5171', '016_S_4097', '016_S_4951', '016_S_4952', '019_S_4367', '019_S_5242', '020_S_5140', '021_S_4276', '021_S_4421', '021_S_4558', '021_S_5129', '021_S_5194', '022_S_4173', '023_S_4020', '023_S_4164', '023_S_4448', '024_S_4084', '027_S_5079', '027_S_5083', '027_S_5093', '027_S_5110', '027_S_5170', '027_S_5288', '029_S_4279', '029_S_4384', '029_S_4585', '029_S_5158', '031_S_4021', '031_S_4032', '031_S_4496', '035_S_4082', '036_S_4389', '036_S_4491', '036_S_4878', '036_S_5248', '036_S_5271', '037_S_4028', '037_S_4308', '037_S_5222', '041_S_4200', '041_S_4427', '041_S_5078', '041_S_5082', '041_S_5100', '041_S_5131', '041_S_5141', '041_S_5244', '067_S_5159', '068_S_4340', '072_S_4103', '072_S_4391', '073_S_4382', '073_S_4393', '073_S_4559', '073_S_4739', '073_S_4762', '073_S_5167', '082_S_4090', '082_S_4208', '082_S_4224', '082_S_5279', '094_S_4503', '094_S_4560', '098_S_4018', '098_S_4050', '100_S_4469', '100_S_5075', '100_S_5091', '100_S_5280', '116_S_4043', '116_S_4453', '116_S_4483', '126_S_5243', '127_S_4604', '127_S_5200', '127_S_5218', '127_S_5228', '127_S_5266', '128_S_4586', '128_S_4599', '128_S_4609', '128_S_4832', '130_S_5175', '135_S_4598', '135_S_5113', '136_S_4269', '137_S_4466', '153_S_4125', '153_S_4139', '153_S_4372', '941_S_4066', '941_S_5193']\n",
      "Cross-Validation Accuracy: 0.55 ± 0.06\n",
      "Sensitivity: 0.57 ± 0.12\n",
      "Specificity: 0.54 ± 0.14\n",
      "Scores for Z_scoring ('CN', 'Dementia'): Accuracy: 0.55, Sensitivity: 0.57, Specificity: 0.54\n",
      "Evaluating pair: ('CN', 'MCI')\n"
     ]
    },
    {
     "name": "stderr",
     "output_type": "stream",
     "text": [
      "/home/hang/GitHub/BrainGNN_Pytorch/fetch_hang_ADNI_data.py:91: DtypeWarning: Columns (19,20,21,50,51,104,105,106) have mixed types. Specify dtype option on import or set low_memory=False.\n",
      "  ADNI_merge = pd.read_csv('/media/hang/EXTERNAL_US/Data/1_HANG_FDG_PET/ADNIMERGE_30Jan2024.csv')\n"
     ]
    },
    {
     "name": "stdout",
     "output_type": "stream",
     "text": [
      "Baseline not identical to followup in subject 035_S_4256 of ab long 0 and ab bl [1]\n",
      "Baseline not identical to followup in subject 072_S_4226 of ab long 0 and ab bl [1]\n",
      "Baseline not identical to followup in subject 116_S_4898 of ab long 0 and ab bl [1]\n",
      "Baseline not identical to followup in subject 128_S_4553 of ab long 0 and ab bl [1]\n",
      "Baseline not identical to followup in subject 153_S_4838 of ab long 0 and ab bl [1]\n",
      "Baseline not identical to followup in subject 006_S_4449 of ab long 0 and ab bl [1]\n",
      "Baseline not identical to followup in subject 014_S_4093 of ab long 0 and ab bl [1]\n",
      "Baseline not identical to followup in subject 020_S_5203 of ab long 0 and ab bl [1]\n",
      "Baseline not identical to followup in subject 032_S_4429 of ab long 0 and ab bl [1]\n",
      "Baseline not identical to followup in subject 053_S_4578 of ab long 0 and ab bl [1]\n",
      "Baseline not identical to followup in subject 053_S_5287 of ab long 0 and ab bl [1]\n",
      "Baseline not identical to followup in subject 127_S_4843 of ab long 0 and ab bl [1]\n",
      "Baseline not identical to followup in subject 941_S_4255 of ab long 0 and ab bl [1]\n",
      "Baseline not identical to followup in subject 941_S_5124 of ab long 0 and ab bl [1]\n",
      "Baseline not identical to followup in subject 003_S_4555 of ab long 1 and ab bl [0]\n",
      "Baseline not identical to followup in subject 024_S_4223 of ab long 0 and ab bl [1]\n",
      "Baseline not identical to followup in subject 024_S_4280 of ab long 0 and ab bl [1]\n",
      "Unique value counts in binary labels after resampling: {1: 52, 0: 52}\n",
      "['002_S_4213', '003_S_4119', '003_S_4644', '003_S_4900', '003_S_5150', '003_S_5154', '006_S_4150', '006_S_4357', '006_S_5153', '007_S_4387', '007_S_4488', '007_S_4516', '010_S_4345', '011_S_4075', '011_S_4222', '013_S_5137', '013_S_5171', '016_S_4097', '016_S_4951', '016_S_4952', '019_S_4367', '019_S_5242', '020_S_5140', '021_S_4276', '021_S_4421', '021_S_4558', '021_S_5129', '021_S_5194', '022_S_4173', '023_S_4020', '023_S_4164', '023_S_4448', '024_S_4084', '027_S_5079', '027_S_5083', '027_S_5093', '027_S_5110', '027_S_5170', '027_S_5288', '029_S_4279', '029_S_4384', '029_S_4585', '029_S_5158', '031_S_4021', '031_S_4032', '031_S_4496', '035_S_4082', '036_S_4389', '036_S_4491', '036_S_4878', '036_S_5248', '036_S_5271', '037_S_4028', '037_S_4308', '037_S_5222', '041_S_4200', '041_S_4427', '041_S_5078', '041_S_5082', '041_S_5100', '041_S_5131', '041_S_5141', '041_S_5244', '067_S_5159', '068_S_4340', '072_S_4103', '072_S_4391', '073_S_4382', '073_S_4393', '073_S_4559', '073_S_4739', '073_S_4762', '073_S_5167', '082_S_4090', '082_S_4208', '082_S_4224', '082_S_5279', '094_S_4503', '094_S_4560', '098_S_4018', '098_S_4050', '100_S_4469', '100_S_5075', '100_S_5091', '100_S_5280', '116_S_4043', '116_S_4453', '116_S_4483', '126_S_5243', '127_S_4604', '127_S_5200', '127_S_5218', '127_S_5228', '127_S_5266', '128_S_4586', '128_S_4599', '128_S_4609', '128_S_4832', '130_S_5175', '135_S_4598', '135_S_5113', '136_S_4269', '137_S_4466', '153_S_4125', '153_S_4139', '153_S_4372', '941_S_4066', '941_S_5193']\n",
      "Cross-Validation Accuracy: 0.53 ± 0.02\n",
      "Sensitivity: 0.31 ± 0.10\n",
      "Specificity: 0.75 ± 0.09\n",
      "Scores for Z_scoring ('CN', 'MCI'): Accuracy: 0.53, Sensitivity: 0.31, Specificity: 0.75\n",
      "Evaluating pair: ('MCI', 'Dementia')\n"
     ]
    },
    {
     "name": "stderr",
     "output_type": "stream",
     "text": [
      "/home/hang/GitHub/BrainGNN_Pytorch/fetch_hang_ADNI_data.py:91: DtypeWarning: Columns (19,20,21,50,51,104,105,106) have mixed types. Specify dtype option on import or set low_memory=False.\n",
      "  ADNI_merge = pd.read_csv('/media/hang/EXTERNAL_US/Data/1_HANG_FDG_PET/ADNIMERGE_30Jan2024.csv')\n"
     ]
    },
    {
     "name": "stdout",
     "output_type": "stream",
     "text": [
      "Baseline not identical to followup in subject 035_S_4256 of ab long 0 and ab bl [1]\n",
      "Baseline not identical to followup in subject 072_S_4226 of ab long 0 and ab bl [1]\n",
      "Baseline not identical to followup in subject 116_S_4898 of ab long 0 and ab bl [1]\n",
      "Baseline not identical to followup in subject 128_S_4553 of ab long 0 and ab bl [1]\n",
      "Baseline not identical to followup in subject 153_S_4838 of ab long 0 and ab bl [1]\n",
      "Baseline not identical to followup in subject 006_S_4449 of ab long 0 and ab bl [1]\n",
      "Baseline not identical to followup in subject 014_S_4093 of ab long 0 and ab bl [1]\n",
      "Baseline not identical to followup in subject 020_S_5203 of ab long 0 and ab bl [1]\n",
      "Baseline not identical to followup in subject 032_S_4429 of ab long 0 and ab bl [1]\n",
      "Baseline not identical to followup in subject 053_S_4578 of ab long 0 and ab bl [1]\n",
      "Baseline not identical to followup in subject 053_S_5287 of ab long 0 and ab bl [1]\n",
      "Baseline not identical to followup in subject 127_S_4843 of ab long 0 and ab bl [1]\n",
      "Baseline not identical to followup in subject 941_S_4255 of ab long 0 and ab bl [1]\n",
      "Baseline not identical to followup in subject 941_S_5124 of ab long 0 and ab bl [1]\n",
      "Baseline not identical to followup in subject 003_S_4555 of ab long 1 and ab bl [0]\n",
      "Baseline not identical to followup in subject 024_S_4223 of ab long 0 and ab bl [1]\n",
      "Baseline not identical to followup in subject 024_S_4280 of ab long 0 and ab bl [1]\n",
      "Unique value counts in binary labels after resampling: {0: 52, 1: 52}\n",
      "['002_S_4447', '002_S_4473', '003_S_4524', '006_S_4679', '007_S_4467', '007_S_4611', '011_S_4235', '013_S_4985', '016_S_4646', '016_S_5007', '021_S_4744', '022_S_4805', '023_S_4034', '023_S_4241', '024_S_4392', '024_S_4674', '027_S_4804', '027_S_4955', '029_S_4327', '031_S_4590', '036_S_4562', '036_S_4736', '037_S_4146', '041_S_4510', '053_S_4557', '057_S_4897', '057_S_4909', '068_S_4134', '068_S_4431', '072_S_4007', '073_S_4259', '073_S_4311', '073_S_4403', '073_S_4614', '082_S_5014', '094_S_4858', '098_S_4059', '116_S_4635', '123_S_4170', '123_S_4904', '126_S_4743', '128_S_4636', '129_S_4073', '129_S_4287', '130_S_4405', '135_S_4309', '136_S_4408', '137_S_4852', '153_S_4297', '941_S_4377', '941_S_4420', '941_S_4764']\n",
      "Cross-Validation Accuracy: 0.58 ± 0.11\n",
      "Sensitivity: 0.62 ± 0.24\n",
      "Specificity: 0.54 ± 0.06\n",
      "Scores for Z_scoring ('MCI', 'Dementia'): Accuracy: 0.58, Sensitivity: 0.62, Specificity: 0.54\n",
      "Evaluating pair: ('CN', 'CN')\n"
     ]
    },
    {
     "name": "stderr",
     "output_type": "stream",
     "text": [
      "/home/hang/GitHub/BrainGNN_Pytorch/fetch_hang_ADNI_data.py:91: DtypeWarning: Columns (19,20,21,50,51,104,105,106) have mixed types. Specify dtype option on import or set low_memory=False.\n",
      "  ADNI_merge = pd.read_csv('/media/hang/EXTERNAL_US/Data/1_HANG_FDG_PET/ADNIMERGE_30Jan2024.csv')\n"
     ]
    },
    {
     "name": "stdout",
     "output_type": "stream",
     "text": [
      "Baseline not identical to followup in subject 035_S_4256 of ab long 0 and ab bl [1]\n",
      "Baseline not identical to followup in subject 072_S_4226 of ab long 0 and ab bl [1]\n",
      "Baseline not identical to followup in subject 116_S_4898 of ab long 0 and ab bl [1]\n",
      "Baseline not identical to followup in subject 128_S_4553 of ab long 0 and ab bl [1]\n",
      "Baseline not identical to followup in subject 153_S_4838 of ab long 0 and ab bl [1]\n",
      "Baseline not identical to followup in subject 006_S_4449 of ab long 0 and ab bl [1]\n",
      "Baseline not identical to followup in subject 014_S_4093 of ab long 0 and ab bl [1]\n",
      "Baseline not identical to followup in subject 020_S_5203 of ab long 0 and ab bl [1]\n",
      "Baseline not identical to followup in subject 032_S_4429 of ab long 0 and ab bl [1]\n",
      "Baseline not identical to followup in subject 053_S_4578 of ab long 0 and ab bl [1]\n",
      "Baseline not identical to followup in subject 053_S_5287 of ab long 0 and ab bl [1]\n",
      "Baseline not identical to followup in subject 127_S_4843 of ab long 0 and ab bl [1]\n",
      "Baseline not identical to followup in subject 941_S_4255 of ab long 0 and ab bl [1]\n",
      "Baseline not identical to followup in subject 941_S_5124 of ab long 0 and ab bl [1]\n",
      "Baseline not identical to followup in subject 003_S_4555 of ab long 1 and ab bl [0]\n",
      "Baseline not identical to followup in subject 024_S_4223 of ab long 0 and ab bl [1]\n",
      "Baseline not identical to followup in subject 024_S_4280 of ab long 0 and ab bl [1]\n",
      "Unique value counts in binary labels after resampling: {1: 39, 0: 39}\n",
      "['002_S_4213', '003_S_4119', '003_S_4644', '003_S_4900', '003_S_5150', '003_S_5154', '006_S_4150', '006_S_4357', '006_S_5153', '007_S_4387', '007_S_4488', '007_S_4516', '010_S_4345', '011_S_4075', '011_S_4222', '013_S_5137', '013_S_5171', '016_S_4097', '016_S_4951', '016_S_4952', '019_S_4367', '019_S_5242', '020_S_5140', '021_S_4276', '021_S_4421', '021_S_4558', '021_S_5129', '021_S_5194', '022_S_4173', '023_S_4020', '023_S_4164', '023_S_4448', '024_S_4084', '027_S_5079', '027_S_5083', '027_S_5093', '027_S_5110', '027_S_5170', '027_S_5288', '029_S_4279', '029_S_4384', '029_S_4585', '029_S_5158', '031_S_4021', '031_S_4032', '031_S_4496', '035_S_4082', '036_S_4389', '036_S_4491', '036_S_4878', '036_S_5248', '036_S_5271', '037_S_4028', '037_S_4308', '037_S_5222', '041_S_4200', '041_S_4427', '041_S_5078', '041_S_5082', '041_S_5100', '041_S_5131', '041_S_5141', '041_S_5244', '067_S_5159', '068_S_4340', '072_S_4103', '072_S_4391', '073_S_4382', '073_S_4393', '073_S_4559', '073_S_4739', '073_S_4762', '073_S_5167', '082_S_4090', '082_S_4208', '082_S_4224', '082_S_5279', '094_S_4503', '094_S_4560', '098_S_4018', '098_S_4050', '100_S_4469', '100_S_5075', '100_S_5091', '100_S_5280', '116_S_4043', '116_S_4453', '116_S_4483', '126_S_5243', '127_S_4604', '127_S_5200', '127_S_5218', '127_S_5228', '127_S_5266', '128_S_4586', '128_S_4599', '128_S_4609', '128_S_4832', '130_S_5175', '135_S_4598', '135_S_5113', '136_S_4269', '137_S_4466', '153_S_4125', '153_S_4139', '153_S_4372', '941_S_4066', '941_S_5193']\n",
      "Cross-Validation Accuracy: 0.72 ± 0.04\n",
      "Sensitivity: 0.69 ± 0.10\n",
      "Specificity: 0.75 ± 0.11\n",
      "Scores for K_correlation ('CN', 'CN'): Accuracy: 0.72, Sensitivity: 0.69, Specificity: 0.75\n",
      "Evaluating pair: ('CN', 'Dementia')\n"
     ]
    },
    {
     "name": "stderr",
     "output_type": "stream",
     "text": [
      "/home/hang/GitHub/BrainGNN_Pytorch/fetch_hang_ADNI_data.py:91: DtypeWarning: Columns (19,20,21,50,51,104,105,106) have mixed types. Specify dtype option on import or set low_memory=False.\n",
      "  ADNI_merge = pd.read_csv('/media/hang/EXTERNAL_US/Data/1_HANG_FDG_PET/ADNIMERGE_30Jan2024.csv')\n"
     ]
    },
    {
     "name": "stdout",
     "output_type": "stream",
     "text": [
      "Baseline not identical to followup in subject 035_S_4256 of ab long 0 and ab bl [1]\n",
      "Baseline not identical to followup in subject 072_S_4226 of ab long 0 and ab bl [1]\n",
      "Baseline not identical to followup in subject 116_S_4898 of ab long 0 and ab bl [1]\n",
      "Baseline not identical to followup in subject 128_S_4553 of ab long 0 and ab bl [1]\n",
      "Baseline not identical to followup in subject 153_S_4838 of ab long 0 and ab bl [1]\n",
      "Baseline not identical to followup in subject 006_S_4449 of ab long 0 and ab bl [1]\n",
      "Baseline not identical to followup in subject 014_S_4093 of ab long 0 and ab bl [1]\n",
      "Baseline not identical to followup in subject 020_S_5203 of ab long 0 and ab bl [1]\n",
      "Baseline not identical to followup in subject 032_S_4429 of ab long 0 and ab bl [1]\n",
      "Baseline not identical to followup in subject 053_S_4578 of ab long 0 and ab bl [1]\n",
      "Baseline not identical to followup in subject 053_S_5287 of ab long 0 and ab bl [1]\n",
      "Baseline not identical to followup in subject 127_S_4843 of ab long 0 and ab bl [1]\n",
      "Baseline not identical to followup in subject 941_S_4255 of ab long 0 and ab bl [1]\n",
      "Baseline not identical to followup in subject 941_S_5124 of ab long 0 and ab bl [1]\n",
      "Baseline not identical to followup in subject 003_S_4555 of ab long 1 and ab bl [0]\n",
      "Baseline not identical to followup in subject 024_S_4223 of ab long 0 and ab bl [1]\n",
      "Baseline not identical to followup in subject 024_S_4280 of ab long 0 and ab bl [1]\n",
      "Unique value counts in binary labels after resampling: {0: 100, 1: 100}\n",
      "['002_S_4213', '003_S_4119', '003_S_4644', '003_S_4900', '003_S_5150', '003_S_5154', '006_S_4150', '006_S_4357', '006_S_5153', '007_S_4387', '007_S_4488', '007_S_4516', '010_S_4345', '011_S_4075', '011_S_4222', '013_S_5137', '013_S_5171', '016_S_4097', '016_S_4951', '016_S_4952', '019_S_4367', '019_S_5242', '020_S_5140', '021_S_4276', '021_S_4421', '021_S_4558', '021_S_5129', '021_S_5194', '022_S_4173', '023_S_4020', '023_S_4164', '023_S_4448', '024_S_4084', '027_S_5079', '027_S_5083', '027_S_5093', '027_S_5110', '027_S_5170', '027_S_5288', '029_S_4279', '029_S_4384', '029_S_4585', '029_S_5158', '031_S_4021', '031_S_4032', '031_S_4496', '035_S_4082', '036_S_4389', '036_S_4491', '036_S_4878', '036_S_5248', '036_S_5271', '037_S_4028', '037_S_4308', '037_S_5222', '041_S_4200', '041_S_4427', '041_S_5078', '041_S_5082', '041_S_5100', '041_S_5131', '041_S_5141', '041_S_5244', '067_S_5159', '068_S_4340', '072_S_4103', '072_S_4391', '073_S_4382', '073_S_4393', '073_S_4559', '073_S_4739', '073_S_4762', '073_S_5167', '082_S_4090', '082_S_4208', '082_S_4224', '082_S_5279', '094_S_4503', '094_S_4560', '098_S_4018', '098_S_4050', '100_S_4469', '100_S_5075', '100_S_5091', '100_S_5280', '116_S_4043', '116_S_4453', '116_S_4483', '126_S_5243', '127_S_4604', '127_S_5200', '127_S_5218', '127_S_5228', '127_S_5266', '128_S_4586', '128_S_4599', '128_S_4609', '128_S_4832', '130_S_5175', '135_S_4598', '135_S_5113', '136_S_4269', '137_S_4466', '153_S_4125', '153_S_4139', '153_S_4372', '941_S_4066', '941_S_5193']\n",
      "Cross-Validation Accuracy: 0.94 ± 0.02\n",
      "Sensitivity: 0.88 ± 0.04\n",
      "Specificity: 1.00 ± 0.00\n",
      "Scores for K_correlation ('CN', 'Dementia'): Accuracy: 0.94, Sensitivity: 0.88, Specificity: 1.00\n",
      "Evaluating pair: ('CN', 'MCI')\n"
     ]
    },
    {
     "name": "stderr",
     "output_type": "stream",
     "text": [
      "/home/hang/GitHub/BrainGNN_Pytorch/fetch_hang_ADNI_data.py:91: DtypeWarning: Columns (19,20,21,50,51,104,105,106) have mixed types. Specify dtype option on import or set low_memory=False.\n",
      "  ADNI_merge = pd.read_csv('/media/hang/EXTERNAL_US/Data/1_HANG_FDG_PET/ADNIMERGE_30Jan2024.csv')\n"
     ]
    },
    {
     "name": "stdout",
     "output_type": "stream",
     "text": [
      "Baseline not identical to followup in subject 035_S_4256 of ab long 0 and ab bl [1]\n",
      "Baseline not identical to followup in subject 072_S_4226 of ab long 0 and ab bl [1]\n",
      "Baseline not identical to followup in subject 116_S_4898 of ab long 0 and ab bl [1]\n",
      "Baseline not identical to followup in subject 128_S_4553 of ab long 0 and ab bl [1]\n",
      "Baseline not identical to followup in subject 153_S_4838 of ab long 0 and ab bl [1]\n",
      "Baseline not identical to followup in subject 006_S_4449 of ab long 0 and ab bl [1]\n",
      "Baseline not identical to followup in subject 014_S_4093 of ab long 0 and ab bl [1]\n",
      "Baseline not identical to followup in subject 020_S_5203 of ab long 0 and ab bl [1]\n",
      "Baseline not identical to followup in subject 032_S_4429 of ab long 0 and ab bl [1]\n",
      "Baseline not identical to followup in subject 053_S_4578 of ab long 0 and ab bl [1]\n",
      "Baseline not identical to followup in subject 053_S_5287 of ab long 0 and ab bl [1]\n",
      "Baseline not identical to followup in subject 127_S_4843 of ab long 0 and ab bl [1]\n",
      "Baseline not identical to followup in subject 941_S_4255 of ab long 0 and ab bl [1]\n",
      "Baseline not identical to followup in subject 941_S_5124 of ab long 0 and ab bl [1]\n",
      "Baseline not identical to followup in subject 003_S_4555 of ab long 1 and ab bl [0]\n",
      "Baseline not identical to followup in subject 024_S_4223 of ab long 0 and ab bl [1]\n",
      "Baseline not identical to followup in subject 024_S_4280 of ab long 0 and ab bl [1]\n",
      "Unique value counts in binary labels after resampling: {1: 52, 0: 52}\n",
      "['002_S_4213', '003_S_4119', '003_S_4644', '003_S_4900', '003_S_5150', '003_S_5154', '006_S_4150', '006_S_4357', '006_S_5153', '007_S_4387', '007_S_4488', '007_S_4516', '010_S_4345', '011_S_4075', '011_S_4222', '013_S_5137', '013_S_5171', '016_S_4097', '016_S_4951', '016_S_4952', '019_S_4367', '019_S_5242', '020_S_5140', '021_S_4276', '021_S_4421', '021_S_4558', '021_S_5129', '021_S_5194', '022_S_4173', '023_S_4020', '023_S_4164', '023_S_4448', '024_S_4084', '027_S_5079', '027_S_5083', '027_S_5093', '027_S_5110', '027_S_5170', '027_S_5288', '029_S_4279', '029_S_4384', '029_S_4585', '029_S_5158', '031_S_4021', '031_S_4032', '031_S_4496', '035_S_4082', '036_S_4389', '036_S_4491', '036_S_4878', '036_S_5248', '036_S_5271', '037_S_4028', '037_S_4308', '037_S_5222', '041_S_4200', '041_S_4427', '041_S_5078', '041_S_5082', '041_S_5100', '041_S_5131', '041_S_5141', '041_S_5244', '067_S_5159', '068_S_4340', '072_S_4103', '072_S_4391', '073_S_4382', '073_S_4393', '073_S_4559', '073_S_4739', '073_S_4762', '073_S_5167', '082_S_4090', '082_S_4208', '082_S_4224', '082_S_5279', '094_S_4503', '094_S_4560', '098_S_4018', '098_S_4050', '100_S_4469', '100_S_5075', '100_S_5091', '100_S_5280', '116_S_4043', '116_S_4453', '116_S_4483', '126_S_5243', '127_S_4604', '127_S_5200', '127_S_5218', '127_S_5228', '127_S_5266', '128_S_4586', '128_S_4599', '128_S_4609', '128_S_4832', '130_S_5175', '135_S_4598', '135_S_5113', '136_S_4269', '137_S_4466', '153_S_4125', '153_S_4139', '153_S_4372', '941_S_4066', '941_S_5193']\n",
      "Cross-Validation Accuracy: 0.78 ± 0.07\n",
      "Sensitivity: 0.70 ± 0.10\n",
      "Specificity: 0.87 ± 0.10\n",
      "Scores for K_correlation ('CN', 'MCI'): Accuracy: 0.78, Sensitivity: 0.70, Specificity: 0.87\n",
      "Evaluating pair: ('MCI', 'Dementia')\n"
     ]
    },
    {
     "name": "stderr",
     "output_type": "stream",
     "text": [
      "/home/hang/GitHub/BrainGNN_Pytorch/fetch_hang_ADNI_data.py:91: DtypeWarning: Columns (19,20,21,50,51,104,105,106) have mixed types. Specify dtype option on import or set low_memory=False.\n",
      "  ADNI_merge = pd.read_csv('/media/hang/EXTERNAL_US/Data/1_HANG_FDG_PET/ADNIMERGE_30Jan2024.csv')\n"
     ]
    },
    {
     "name": "stdout",
     "output_type": "stream",
     "text": [
      "Baseline not identical to followup in subject 035_S_4256 of ab long 0 and ab bl [1]\n",
      "Baseline not identical to followup in subject 072_S_4226 of ab long 0 and ab bl [1]\n",
      "Baseline not identical to followup in subject 116_S_4898 of ab long 0 and ab bl [1]\n",
      "Baseline not identical to followup in subject 128_S_4553 of ab long 0 and ab bl [1]\n",
      "Baseline not identical to followup in subject 153_S_4838 of ab long 0 and ab bl [1]\n",
      "Baseline not identical to followup in subject 006_S_4449 of ab long 0 and ab bl [1]\n",
      "Baseline not identical to followup in subject 014_S_4093 of ab long 0 and ab bl [1]\n",
      "Baseline not identical to followup in subject 020_S_5203 of ab long 0 and ab bl [1]\n",
      "Baseline not identical to followup in subject 032_S_4429 of ab long 0 and ab bl [1]\n",
      "Baseline not identical to followup in subject 053_S_4578 of ab long 0 and ab bl [1]\n",
      "Baseline not identical to followup in subject 053_S_5287 of ab long 0 and ab bl [1]\n",
      "Baseline not identical to followup in subject 127_S_4843 of ab long 0 and ab bl [1]\n",
      "Baseline not identical to followup in subject 941_S_4255 of ab long 0 and ab bl [1]\n",
      "Baseline not identical to followup in subject 941_S_5124 of ab long 0 and ab bl [1]\n",
      "Baseline not identical to followup in subject 003_S_4555 of ab long 1 and ab bl [0]\n",
      "Baseline not identical to followup in subject 024_S_4223 of ab long 0 and ab bl [1]\n",
      "Baseline not identical to followup in subject 024_S_4280 of ab long 0 and ab bl [1]\n",
      "Unique value counts in binary labels after resampling: {0: 52, 1: 52}\n",
      "['002_S_4447', '002_S_4473', '003_S_4524', '006_S_4679', '007_S_4467', '007_S_4611', '011_S_4235', '013_S_4985', '016_S_4646', '016_S_5007', '021_S_4744', '022_S_4805', '023_S_4034', '023_S_4241', '024_S_4392', '024_S_4674', '027_S_4804', '027_S_4955', '029_S_4327', '031_S_4590', '036_S_4562', '036_S_4736', '037_S_4146', '041_S_4510', '053_S_4557', '057_S_4897', '057_S_4909', '068_S_4134', '068_S_4431', '072_S_4007', '073_S_4259', '073_S_4311', '073_S_4403', '073_S_4614', '082_S_5014', '094_S_4858', '098_S_4059', '116_S_4635', '123_S_4170', '123_S_4904', '126_S_4743', '128_S_4636', '129_S_4073', '129_S_4287', '130_S_4405', '135_S_4309', '136_S_4408', '137_S_4852', '153_S_4297', '941_S_4377', '941_S_4420', '941_S_4764']\n",
      "Cross-Validation Accuracy: 0.77 ± 0.10\n",
      "Sensitivity: 0.68 ± 0.18\n",
      "Specificity: 0.87 ± 0.10\n",
      "Scores for K_correlation ('MCI', 'Dementia'): Accuracy: 0.77, Sensitivity: 0.68, Specificity: 0.87\n",
      "Evaluating pair: ('CN', 'CN')\n"
     ]
    },
    {
     "name": "stderr",
     "output_type": "stream",
     "text": [
      "/home/hang/GitHub/BrainGNN_Pytorch/fetch_hang_ADNI_data.py:91: DtypeWarning: Columns (19,20,21,50,51,104,105,106) have mixed types. Specify dtype option on import or set low_memory=False.\n",
      "  ADNI_merge = pd.read_csv('/media/hang/EXTERNAL_US/Data/1_HANG_FDG_PET/ADNIMERGE_30Jan2024.csv')\n"
     ]
    },
    {
     "name": "stdout",
     "output_type": "stream",
     "text": [
      "Baseline not identical to followup in subject 035_S_4256 of ab long 0 and ab bl [1]\n",
      "Baseline not identical to followup in subject 072_S_4226 of ab long 0 and ab bl [1]\n",
      "Baseline not identical to followup in subject 116_S_4898 of ab long 0 and ab bl [1]\n",
      "Baseline not identical to followup in subject 128_S_4553 of ab long 0 and ab bl [1]\n",
      "Baseline not identical to followup in subject 153_S_4838 of ab long 0 and ab bl [1]\n",
      "Baseline not identical to followup in subject 006_S_4449 of ab long 0 and ab bl [1]\n",
      "Baseline not identical to followup in subject 014_S_4093 of ab long 0 and ab bl [1]\n",
      "Baseline not identical to followup in subject 020_S_5203 of ab long 0 and ab bl [1]\n",
      "Baseline not identical to followup in subject 032_S_4429 of ab long 0 and ab bl [1]\n",
      "Baseline not identical to followup in subject 053_S_4578 of ab long 0 and ab bl [1]\n",
      "Baseline not identical to followup in subject 053_S_5287 of ab long 0 and ab bl [1]\n",
      "Baseline not identical to followup in subject 127_S_4843 of ab long 0 and ab bl [1]\n",
      "Baseline not identical to followup in subject 941_S_4255 of ab long 0 and ab bl [1]\n",
      "Baseline not identical to followup in subject 941_S_5124 of ab long 0 and ab bl [1]\n",
      "Baseline not identical to followup in subject 003_S_4555 of ab long 1 and ab bl [0]\n",
      "Baseline not identical to followup in subject 024_S_4223 of ab long 0 and ab bl [1]\n",
      "Baseline not identical to followup in subject 024_S_4280 of ab long 0 and ab bl [1]\n",
      "Unique value counts in binary labels after resampling: {1: 39, 0: 39}\n",
      "['002_S_4213', '003_S_4119', '003_S_4644', '003_S_4900', '003_S_5150', '003_S_5154', '006_S_4150', '006_S_4357', '006_S_5153', '007_S_4387', '007_S_4488', '007_S_4516', '010_S_4345', '011_S_4075', '011_S_4222', '013_S_5137', '013_S_5171', '016_S_4097', '016_S_4951', '016_S_4952', '019_S_4367', '019_S_5242', '020_S_5140', '021_S_4276', '021_S_4421', '021_S_4558', '021_S_5129', '021_S_5194', '022_S_4173', '023_S_4020', '023_S_4164', '023_S_4448', '024_S_4084', '027_S_5079', '027_S_5083', '027_S_5093', '027_S_5110', '027_S_5170', '027_S_5288', '029_S_4279', '029_S_4384', '029_S_4585', '029_S_5158', '031_S_4021', '031_S_4032', '031_S_4496', '035_S_4082', '036_S_4389', '036_S_4491', '036_S_4878', '036_S_5248', '036_S_5271', '037_S_4028', '037_S_4308', '037_S_5222', '041_S_4200', '041_S_4427', '041_S_5078', '041_S_5082', '041_S_5100', '041_S_5131', '041_S_5141', '041_S_5244', '067_S_5159', '068_S_4340', '072_S_4103', '072_S_4391', '073_S_4382', '073_S_4393', '073_S_4559', '073_S_4739', '073_S_4762', '073_S_5167', '082_S_4090', '082_S_4208', '082_S_4224', '082_S_5279', '094_S_4503', '094_S_4560', '098_S_4018', '098_S_4050', '100_S_4469', '100_S_5075', '100_S_5091', '100_S_5280', '116_S_4043', '116_S_4453', '116_S_4483', '126_S_5243', '127_S_4604', '127_S_5200', '127_S_5218', '127_S_5228', '127_S_5266', '128_S_4586', '128_S_4599', '128_S_4609', '128_S_4832', '130_S_5175', '135_S_4598', '135_S_5113', '136_S_4269', '137_S_4466', '153_S_4125', '153_S_4139', '153_S_4372', '941_S_4066', '941_S_5193']\n",
      "Cross-Validation Accuracy: 0.32 ± 0.11\n",
      "Sensitivity: 0.31 ± 0.22\n",
      "Specificity: 0.34 ± 0.17\n",
      "Scores for K_JS_Divergence ('CN', 'CN'): Accuracy: 0.32, Sensitivity: 0.31, Specificity: 0.34\n",
      "Evaluating pair: ('CN', 'Dementia')\n"
     ]
    },
    {
     "name": "stderr",
     "output_type": "stream",
     "text": [
      "/home/hang/GitHub/BrainGNN_Pytorch/fetch_hang_ADNI_data.py:91: DtypeWarning: Columns (19,20,21,50,51,104,105,106) have mixed types. Specify dtype option on import or set low_memory=False.\n",
      "  ADNI_merge = pd.read_csv('/media/hang/EXTERNAL_US/Data/1_HANG_FDG_PET/ADNIMERGE_30Jan2024.csv')\n"
     ]
    },
    {
     "name": "stdout",
     "output_type": "stream",
     "text": [
      "Baseline not identical to followup in subject 035_S_4256 of ab long 0 and ab bl [1]\n",
      "Baseline not identical to followup in subject 072_S_4226 of ab long 0 and ab bl [1]\n",
      "Baseline not identical to followup in subject 116_S_4898 of ab long 0 and ab bl [1]\n",
      "Baseline not identical to followup in subject 128_S_4553 of ab long 0 and ab bl [1]\n",
      "Baseline not identical to followup in subject 153_S_4838 of ab long 0 and ab bl [1]\n",
      "Baseline not identical to followup in subject 006_S_4449 of ab long 0 and ab bl [1]\n",
      "Baseline not identical to followup in subject 014_S_4093 of ab long 0 and ab bl [1]\n",
      "Baseline not identical to followup in subject 020_S_5203 of ab long 0 and ab bl [1]\n",
      "Baseline not identical to followup in subject 032_S_4429 of ab long 0 and ab bl [1]\n",
      "Baseline not identical to followup in subject 053_S_4578 of ab long 0 and ab bl [1]\n",
      "Baseline not identical to followup in subject 053_S_5287 of ab long 0 and ab bl [1]\n",
      "Baseline not identical to followup in subject 127_S_4843 of ab long 0 and ab bl [1]\n",
      "Baseline not identical to followup in subject 941_S_4255 of ab long 0 and ab bl [1]\n",
      "Baseline not identical to followup in subject 941_S_5124 of ab long 0 and ab bl [1]\n",
      "Baseline not identical to followup in subject 003_S_4555 of ab long 1 and ab bl [0]\n",
      "Baseline not identical to followup in subject 024_S_4223 of ab long 0 and ab bl [1]\n",
      "Baseline not identical to followup in subject 024_S_4280 of ab long 0 and ab bl [1]\n",
      "Unique value counts in binary labels after resampling: {0: 100, 1: 100}\n",
      "['002_S_4213', '003_S_4119', '003_S_4644', '003_S_4900', '003_S_5150', '003_S_5154', '006_S_4150', '006_S_4357', '006_S_5153', '007_S_4387', '007_S_4488', '007_S_4516', '010_S_4345', '011_S_4075', '011_S_4222', '013_S_5137', '013_S_5171', '016_S_4097', '016_S_4951', '016_S_4952', '019_S_4367', '019_S_5242', '020_S_5140', '021_S_4276', '021_S_4421', '021_S_4558', '021_S_5129', '021_S_5194', '022_S_4173', '023_S_4020', '023_S_4164', '023_S_4448', '024_S_4084', '027_S_5079', '027_S_5083', '027_S_5093', '027_S_5110', '027_S_5170', '027_S_5288', '029_S_4279', '029_S_4384', '029_S_4585', '029_S_5158', '031_S_4021', '031_S_4032', '031_S_4496', '035_S_4082', '036_S_4389', '036_S_4491', '036_S_4878', '036_S_5248', '036_S_5271', '037_S_4028', '037_S_4308', '037_S_5222', '041_S_4200', '041_S_4427', '041_S_5078', '041_S_5082', '041_S_5100', '041_S_5131', '041_S_5141', '041_S_5244', '067_S_5159', '068_S_4340', '072_S_4103', '072_S_4391', '073_S_4382', '073_S_4393', '073_S_4559', '073_S_4739', '073_S_4762', '073_S_5167', '082_S_4090', '082_S_4208', '082_S_4224', '082_S_5279', '094_S_4503', '094_S_4560', '098_S_4018', '098_S_4050', '100_S_4469', '100_S_5075', '100_S_5091', '100_S_5280', '116_S_4043', '116_S_4453', '116_S_4483', '126_S_5243', '127_S_4604', '127_S_5200', '127_S_5218', '127_S_5228', '127_S_5266', '128_S_4586', '128_S_4599', '128_S_4609', '128_S_4832', '130_S_5175', '135_S_4598', '135_S_5113', '136_S_4269', '137_S_4466', '153_S_4125', '153_S_4139', '153_S_4372', '941_S_4066', '941_S_5193']\n",
      "Cross-Validation Accuracy: 0.47 ± 0.04\n",
      "Sensitivity: 0.43 ± 0.09\n",
      "Specificity: 0.50 ± 0.11\n",
      "Scores for K_JS_Divergence ('CN', 'Dementia'): Accuracy: 0.47, Sensitivity: 0.43, Specificity: 0.50\n",
      "Evaluating pair: ('CN', 'MCI')\n"
     ]
    },
    {
     "name": "stderr",
     "output_type": "stream",
     "text": [
      "/home/hang/GitHub/BrainGNN_Pytorch/fetch_hang_ADNI_data.py:91: DtypeWarning: Columns (19,20,21,50,51,104,105,106) have mixed types. Specify dtype option on import or set low_memory=False.\n",
      "  ADNI_merge = pd.read_csv('/media/hang/EXTERNAL_US/Data/1_HANG_FDG_PET/ADNIMERGE_30Jan2024.csv')\n"
     ]
    },
    {
     "name": "stdout",
     "output_type": "stream",
     "text": [
      "Baseline not identical to followup in subject 035_S_4256 of ab long 0 and ab bl [1]\n",
      "Baseline not identical to followup in subject 072_S_4226 of ab long 0 and ab bl [1]\n",
      "Baseline not identical to followup in subject 116_S_4898 of ab long 0 and ab bl [1]\n",
      "Baseline not identical to followup in subject 128_S_4553 of ab long 0 and ab bl [1]\n",
      "Baseline not identical to followup in subject 153_S_4838 of ab long 0 and ab bl [1]\n",
      "Baseline not identical to followup in subject 006_S_4449 of ab long 0 and ab bl [1]\n",
      "Baseline not identical to followup in subject 014_S_4093 of ab long 0 and ab bl [1]\n",
      "Baseline not identical to followup in subject 020_S_5203 of ab long 0 and ab bl [1]\n",
      "Baseline not identical to followup in subject 032_S_4429 of ab long 0 and ab bl [1]\n",
      "Baseline not identical to followup in subject 053_S_4578 of ab long 0 and ab bl [1]\n",
      "Baseline not identical to followup in subject 053_S_5287 of ab long 0 and ab bl [1]\n",
      "Baseline not identical to followup in subject 127_S_4843 of ab long 0 and ab bl [1]\n",
      "Baseline not identical to followup in subject 941_S_4255 of ab long 0 and ab bl [1]\n",
      "Baseline not identical to followup in subject 941_S_5124 of ab long 0 and ab bl [1]\n",
      "Baseline not identical to followup in subject 003_S_4555 of ab long 1 and ab bl [0]\n",
      "Baseline not identical to followup in subject 024_S_4223 of ab long 0 and ab bl [1]\n",
      "Baseline not identical to followup in subject 024_S_4280 of ab long 0 and ab bl [1]\n",
      "Unique value counts in binary labels after resampling: {1: 52, 0: 52}\n",
      "['002_S_4213', '003_S_4119', '003_S_4644', '003_S_4900', '003_S_5150', '003_S_5154', '006_S_4150', '006_S_4357', '006_S_5153', '007_S_4387', '007_S_4488', '007_S_4516', '010_S_4345', '011_S_4075', '011_S_4222', '013_S_5137', '013_S_5171', '016_S_4097', '016_S_4951', '016_S_4952', '019_S_4367', '019_S_5242', '020_S_5140', '021_S_4276', '021_S_4421', '021_S_4558', '021_S_5129', '021_S_5194', '022_S_4173', '023_S_4020', '023_S_4164', '023_S_4448', '024_S_4084', '027_S_5079', '027_S_5083', '027_S_5093', '027_S_5110', '027_S_5170', '027_S_5288', '029_S_4279', '029_S_4384', '029_S_4585', '029_S_5158', '031_S_4021', '031_S_4032', '031_S_4496', '035_S_4082', '036_S_4389', '036_S_4491', '036_S_4878', '036_S_5248', '036_S_5271', '037_S_4028', '037_S_4308', '037_S_5222', '041_S_4200', '041_S_4427', '041_S_5078', '041_S_5082', '041_S_5100', '041_S_5131', '041_S_5141', '041_S_5244', '067_S_5159', '068_S_4340', '072_S_4103', '072_S_4391', '073_S_4382', '073_S_4393', '073_S_4559', '073_S_4739', '073_S_4762', '073_S_5167', '082_S_4090', '082_S_4208', '082_S_4224', '082_S_5279', '094_S_4503', '094_S_4560', '098_S_4018', '098_S_4050', '100_S_4469', '100_S_5075', '100_S_5091', '100_S_5280', '116_S_4043', '116_S_4453', '116_S_4483', '126_S_5243', '127_S_4604', '127_S_5200', '127_S_5218', '127_S_5228', '127_S_5266', '128_S_4586', '128_S_4599', '128_S_4609', '128_S_4832', '130_S_5175', '135_S_4598', '135_S_5113', '136_S_4269', '137_S_4466', '153_S_4125', '153_S_4139', '153_S_4372', '941_S_4066', '941_S_5193']\n",
      "Cross-Validation Accuracy: 0.38 ± 0.04\n",
      "Sensitivity: 0.37 ± 0.05\n",
      "Specificity: 0.41 ± 0.12\n",
      "Scores for K_JS_Divergence ('CN', 'MCI'): Accuracy: 0.38, Sensitivity: 0.37, Specificity: 0.41\n",
      "Evaluating pair: ('MCI', 'Dementia')\n"
     ]
    },
    {
     "name": "stderr",
     "output_type": "stream",
     "text": [
      "/home/hang/GitHub/BrainGNN_Pytorch/fetch_hang_ADNI_data.py:91: DtypeWarning: Columns (19,20,21,50,51,104,105,106) have mixed types. Specify dtype option on import or set low_memory=False.\n",
      "  ADNI_merge = pd.read_csv('/media/hang/EXTERNAL_US/Data/1_HANG_FDG_PET/ADNIMERGE_30Jan2024.csv')\n"
     ]
    },
    {
     "name": "stdout",
     "output_type": "stream",
     "text": [
      "Baseline not identical to followup in subject 035_S_4256 of ab long 0 and ab bl [1]\n",
      "Baseline not identical to followup in subject 072_S_4226 of ab long 0 and ab bl [1]\n",
      "Baseline not identical to followup in subject 116_S_4898 of ab long 0 and ab bl [1]\n",
      "Baseline not identical to followup in subject 128_S_4553 of ab long 0 and ab bl [1]\n",
      "Baseline not identical to followup in subject 153_S_4838 of ab long 0 and ab bl [1]\n",
      "Baseline not identical to followup in subject 006_S_4449 of ab long 0 and ab bl [1]\n",
      "Baseline not identical to followup in subject 014_S_4093 of ab long 0 and ab bl [1]\n",
      "Baseline not identical to followup in subject 020_S_5203 of ab long 0 and ab bl [1]\n",
      "Baseline not identical to followup in subject 032_S_4429 of ab long 0 and ab bl [1]\n",
      "Baseline not identical to followup in subject 053_S_4578 of ab long 0 and ab bl [1]\n",
      "Baseline not identical to followup in subject 053_S_5287 of ab long 0 and ab bl [1]\n",
      "Baseline not identical to followup in subject 127_S_4843 of ab long 0 and ab bl [1]\n",
      "Baseline not identical to followup in subject 941_S_4255 of ab long 0 and ab bl [1]\n",
      "Baseline not identical to followup in subject 941_S_5124 of ab long 0 and ab bl [1]\n",
      "Baseline not identical to followup in subject 003_S_4555 of ab long 1 and ab bl [0]\n",
      "Baseline not identical to followup in subject 024_S_4223 of ab long 0 and ab bl [1]\n",
      "Baseline not identical to followup in subject 024_S_4280 of ab long 0 and ab bl [1]\n",
      "Unique value counts in binary labels after resampling: {0: 52, 1: 52}\n",
      "['002_S_4447', '002_S_4473', '003_S_4524', '006_S_4679', '007_S_4467', '007_S_4611', '011_S_4235', '013_S_4985', '016_S_4646', '016_S_5007', '021_S_4744', '022_S_4805', '023_S_4034', '023_S_4241', '024_S_4392', '024_S_4674', '027_S_4804', '027_S_4955', '029_S_4327', '031_S_4590', '036_S_4562', '036_S_4736', '037_S_4146', '041_S_4510', '053_S_4557', '057_S_4897', '057_S_4909', '068_S_4134', '068_S_4431', '072_S_4007', '073_S_4259', '073_S_4311', '073_S_4403', '073_S_4614', '082_S_5014', '094_S_4858', '098_S_4059', '116_S_4635', '123_S_4170', '123_S_4904', '126_S_4743', '128_S_4636', '129_S_4073', '129_S_4287', '130_S_4405', '135_S_4309', '136_S_4408', '137_S_4852', '153_S_4297', '941_S_4377', '941_S_4420', '941_S_4764']\n",
      "Cross-Validation Accuracy: 0.33 ± 0.06\n",
      "Sensitivity: 0.23 ± 0.05\n",
      "Specificity: 0.42 ± 0.13\n",
      "Scores for K_JS_Divergence ('MCI', 'Dementia'): Accuracy: 0.33, Sensitivity: 0.23, Specificity: 0.42\n"
     ]
    }
   ],
   "source": [
    "import numpy as np\n",
    "from sklearn.svm import SVC\n",
    "from sklearn.model_selection import train_test_split, cross_val_score, StratifiedKFold\n",
    "from sklearn.preprocessing import StandardScaler\n",
    "from sklearn.metrics import classification_report, accuracy_score\n",
    "\n",
    "from sklearn.metrics import classification_report, accuracy_score, confusion_matrix, make_scorer\n",
    "from fetch_hang_ADNI_data import load_for_perturbation, read_data\n",
    "def prepare_data(all_data):\n",
    "    \"\"\"\n",
    "    Prepare the data for SVM classification.\n",
    "    \n",
    "    Parameters:\n",
    "        all_data (list): List of Data objects containing connectome information.\n",
    "    \n",
    "    Returns:\n",
    "        X (np.ndarray): Array of node features.\n",
    "        y (np.ndarray): Array of labels.\n",
    "    \"\"\"\n",
    "    X = []\n",
    "    y = []\n",
    "    for data in all_data:\n",
    "        node_features = data.x.numpy()\n",
    "        label = data.y.item()\n",
    "        upper_triangle_indices = np.triu_indices_from(node_features)\n",
    "        upper_triangle_features = node_features[upper_triangle_indices]\n",
    "        X.append(upper_triangle_features.flatten())  # Flatten the node features into a single array\n",
    "        y.append(label)\n",
    "    return np.array(X), np.array(y)\n",
    "\n",
    "def sensitivity_specificity_scorer(estimator, X, y):\n",
    "    y_pred = estimator.predict(X)\n",
    "    cm = confusion_matrix(y, y_pred)\n",
    "    TN, FP, FN, TP = cm.ravel()\n",
    "    sensitivity = TP / (TP + FN)\n",
    "    specificity = TN / (TN + FP)\n",
    "    return sensitivity, specificity\n",
    "\n",
    "def evaluate_classification(all_data):\n",
    "    X, y = prepare_data(all_data)\n",
    "    \n",
    "    # Standardize the features\n",
    "    scaler = StandardScaler()\n",
    "    X = scaler.fit_transform(X)\n",
    "    \n",
    "    # Initialize SVM classifier\n",
    "    svm_classifier = SVC(kernel='linear', random_state=42)\n",
    "    \n",
    "    # Cross-validation\n",
    "    cv = StratifiedKFold(n_splits=5, shuffle=True, random_state=42)\n",
    "    \n",
    "    sensitivity_scores = []\n",
    "    specificity_scores = []\n",
    "    accuracy_scores = []\n",
    "    \n",
    "    for train_index, test_index in cv.split(X, y):\n",
    "        X_train, X_test = X[train_index], X[test_index]\n",
    "        y_train, y_test = y[train_index], y[test_index]\n",
    "        \n",
    "        svm_classifier.fit(X_train, y_train)\n",
    "        y_pred = svm_classifier.predict(X_test)\n",
    "        \n",
    "        cm = confusion_matrix(y_test, y_pred)\n",
    "        TN, FP, FN, TP = cm.ravel()\n",
    "        \n",
    "        sensitivity = TP / (TP + FN)\n",
    "        specificity = TN / (TN + FP)\n",
    "        accuracy = accuracy_score(y_test, y_pred)\n",
    "        \n",
    "        sensitivity_scores.append(sensitivity)\n",
    "        specificity_scores.append(specificity)\n",
    "        accuracy_scores.append(accuracy)\n",
    "    \n",
    "    print(f\"Cross-Validation Accuracy: {np.mean(accuracy_scores):.2f} ± {np.std(accuracy_scores):.2f}\")\n",
    "    print(f\"Sensitivity: {np.mean(sensitivity_scores):.2f} ± {np.std(sensitivity_scores):.2f}\")\n",
    "    print(f\"Specificity: {np.mean(specificity_scores):.2f} ± {np.std(specificity_scores):.2f}\")\n",
    "    \n",
    "    return np.mean(accuracy_scores), np.mean(sensitivity_scores), np.mean(specificity_scores)\n",
    "\n",
    "# Group pairs to evaluate\n",
    "group_pairs = [\n",
    "    ('CN', 'CN'),\n",
    "    ('CN', 'Dementia'),\n",
    "    ('CN', 'MCI'),\n",
    "    ('MCI', 'Dementia')\n",
    "]\n",
    "\n",
    "# Main loop to process each group pair\n",
    "#mat_files_dir = '/media/hang/EXTERNAL_US/Data/1_HANG_FDG_PET/ADNI_Second_organized/KDE_Results_corrected_by_age_sec_education'\n",
    "mat_files_dir =\"/media/hang/EXTERNAL_US/Data/1_HANG_FDG_PET/longitudinal_AD_MCI_CN/mixed_all_connectome\"\n",
    "baseline = True  # Set to True or False based on your requirement\n",
    "percentile = 25\n",
    "resample_data = True\n",
    "connectomes = ['ScaledMahalanobisDistanceMatrix', 'Z_scoring', 'K_correlation', 'K_JS_Divergence']\n",
    "\n",
    "for connectome in connectomes:\n",
    "    for class_pair in group_pairs:\n",
    "        print(f\"Evaluating pair: {class_pair}\")\n",
    "        \n",
    "        # all_data = load_for_perturbation(baseline=baseline, class_pair=class_pair, percentile=percentile, resample_data=resample_data)\n",
    "        all_data = read_data(class_pair, mat_files_dir, connectome, 2, baseline=baseline, percentile=percentile, resample_data=resample_data)\n",
    "        if not all_data:\n",
    "            print(f\"No valid data for class pair: {class_pair}\")\n",
    "            continue\n",
    "        \n",
    "        accuracy, sensitivity, specificity = evaluate_classification(all_data)\n",
    "        print(f\"Scores for {connectome} {class_pair}: Accuracy: {accuracy:.2f}, Sensitivity: {sensitivity:.2f}, Specificity: {specificity:.2f}\")\n",
    "\n",
    "\n",
    "# Note: Make sure you define `load_for_perturbation` and other necessary functions before running this script.\n"
   ]
  }
 ],
 "metadata": {
  "kernelspec": {
   "display_name": "Python 3",
   "language": "python",
   "name": "python3"
  },
  "language_info": {
   "codemirror_mode": {
    "name": "ipython",
    "version": 3
   },
   "file_extension": ".py",
   "mimetype": "text/x-python",
   "name": "python",
   "nbconvert_exporter": "python",
   "pygments_lexer": "ipython3",
   "version": "3.9.19"
  }
 },
 "nbformat": 4,
 "nbformat_minor": 2
}
