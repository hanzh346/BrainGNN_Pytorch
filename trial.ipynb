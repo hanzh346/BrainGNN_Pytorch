{
 "cells": [
  {
   "cell_type": "code",
   "execution_count": 2,
   "metadata": {},
   "outputs": [
    {
     "name": "stdout",
     "output_type": "stream",
     "text": [
      "[1 1 2 2 0 1 1 2 1 2]\n",
      "[0 1 1 2 1 1 2 2 1 2]\n",
      "tensor([[0, 1, 1, 2],\n",
      "        [1, 2, 0, 1]]) tensor([1., 0., 1., 1.], dtype=torch.float64)\n",
      "(tensor([[0, 1, 1, 2],\n",
      "        [1, 0, 2, 1]]), tensor([1., 1., 0., 1.], dtype=torch.float64))\n"
     ]
    }
   ],
   "source": [
    "import networkx as nx\n",
    "import numpy as np\n",
    "from torch_geometric.utils import remove_self_loops, coalesce\n",
    "import torch\n",
    "edge = np.array([[0,1,0],\n",
    "                 [1,1,0],\n",
    "                 [0,1,1.5]])\n",
    "node_features = np.array([[1, 2],\n",
    "                          [3, 4],\n",
    "                          [5, 6]])\n",
    "\n",
    "# Create graph from adjacency matrix\n",
    "G = nx.from_numpy_array(edge)\n",
    "\n",
    "G.edges(data=True)\n",
    "\n",
    "A = nx.to_scipy_sparse_array(G, format='coo')\n",
    "\n",
    "adj = A.tocoo()\n",
    "print(adj.col)\n",
    "print(adj.row)\n",
    "edge_att = np.zeros(len(adj.row))\n",
    "for i in range(len(adj.row)):\n",
    "    edge_att[i] = edge[adj.row[i], adj.col[i]]\n",
    "num_nodes = 3\n",
    "edge_index = np.vstack([adj.row, adj.col])\n",
    "edge_index, edge_att = remove_self_loops(torch.from_numpy(edge_index), torch.from_numpy(edge_att))\n",
    "print(edge_index,edge_att)\n",
    "print(coalesce(edge_index=edge_index,edge_attr=edge_att,num_nodes=num_nodes))\n"
   ]
  },
  {
   "cell_type": "code",
   "execution_count": 77,
   "metadata": {},
   "outputs": [
    {
     "name": "stdout",
     "output_type": "stream",
     "text": [
      "Coalesced edge index:\n",
      " tensor([[0, 1, 2, 2],\n",
      "        [1, 0, 1, 2]])\n",
      "Coalesced edge attributes:\n",
      " tensor([1., 5., 9., 6.])\n"
     ]
    }
   ],
   "source": [
    "import torch\n",
    "from torch_geometric.utils import coalesce\n",
    "\n",
    "# Example edge index with duplicate edges\n",
    "edge_index = torch.tensor([[0, 1, 1, 2, 2, 2],\n",
    "                           [1, 0, 0, 1, 1, 2]], dtype=torch.long)\n",
    "\n",
    "# Example edge attributes for each edge\n",
    "edge_att = torch.tensor([1, 2, 3, 4, 5, 6], dtype=torch.float)\n",
    "\n",
    "# Number of nodes\n",
    "num_nodes = 3\n",
    "\n",
    "# Coalesce to merge duplicate edges and sort\n",
    "edge_index, edge_att = coalesce(edge_index, edge_att)\n",
    "\n",
    "print(\"Coalesced edge index:\\n\", edge_index)\n",
    "print(\"Coalesced edge attributes:\\n\", edge_att)\n"
   ]
  },
  {
   "cell_type": "code",
   "execution_count": 88,
   "metadata": {},
   "outputs": [],
   "source": [
    "import os\n",
    "import glob\n",
    "import pandas as pd\n",
    "\n",
    "# Get all files with 'Longi' in the filename\n",
    "long_files = glob.glob('/media/hang/EXTERNAL_US/Data/1_HANG_FDG_PET/ADNI_Second_organized/KDE_Results/raw/*Longi*')\n",
    "\n",
    "# Iterate over the list of files\n",
    "for long_file in long_files:\n",
    "    # Print the file if it does not end with 'Z_scoringLongitude.mat'\n",
    "    os.remove(long_file)\n"
   ]
  }
 ],
 "metadata": {
  "kernelspec": {
   "display_name": "Python 3",
   "language": "python",
   "name": "python3"
  },
  "language_info": {
   "codemirror_mode": {
    "name": "ipython",
    "version": 3
   },
   "file_extension": ".py",
   "mimetype": "text/x-python",
   "name": "python",
   "nbconvert_exporter": "python",
   "pygments_lexer": "ipython3",
   "version": "3.9.19"
  }
 },
 "nbformat": 4,
 "nbformat_minor": 2
}
