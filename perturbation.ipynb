{
 "cells": [
  {
   "cell_type": "code",
   "execution_count": 4,
   "metadata": {},
   "outputs": [
    {
     "ename": "AssertionError",
     "evalue": "x and y must be independent",
     "output_type": "error",
     "traceback": [
      "\u001b[0;31m---------------------------------------------------------------------------\u001b[0m",
      "\u001b[0;31mAssertionError\u001b[0m                            Traceback (most recent call last)",
      "Cell \u001b[0;32mIn[4], line 12\u001b[0m\n\u001b[1;32m      8\u001b[0m healthy_connectome\n\u001b[1;32m     10\u001b[0m \u001b[38;5;28;01mimport\u001b[39;00m \u001b[38;5;21;01mpingouin\u001b[39;00m \u001b[38;5;28;01mas\u001b[39;00m \u001b[38;5;21;01mpg\u001b[39;00m\n\u001b[0;32m---> 12\u001b[0m \u001b[43mpg\u001b[49m\u001b[38;5;241;43m.\u001b[39;49m\u001b[43mpartial_corr\u001b[49m\u001b[43m(\u001b[49m\u001b[43mhealthy_connectome\u001b[49m\u001b[43m)\u001b[49m\n",
      "File \u001b[0;32m~/anaconda3/conda3/envs/BrainGNN/lib/python3.9/site-packages/pingouin/correlation.py:839\u001b[0m, in \u001b[0;36mpartial_corr\u001b[0;34m(data, x, y, covar, x_covar, y_covar, alternative, method)\u001b[0m\n\u001b[1;32m    837\u001b[0m \u001b[38;5;28;01mif\u001b[39;00m x_covar \u001b[38;5;129;01mis\u001b[39;00m \u001b[38;5;129;01mnot\u001b[39;00m \u001b[38;5;28;01mNone\u001b[39;00m \u001b[38;5;129;01mand\u001b[39;00m y_covar \u001b[38;5;129;01mis\u001b[39;00m \u001b[38;5;129;01mnot\u001b[39;00m \u001b[38;5;28;01mNone\u001b[39;00m:\n\u001b[1;32m    838\u001b[0m     \u001b[38;5;28;01mraise\u001b[39;00m \u001b[38;5;167;01mValueError\u001b[39;00m(\u001b[38;5;124m\"\u001b[39m\u001b[38;5;124mCannot specify both x_covar and y_covar.\u001b[39m\u001b[38;5;124m\"\u001b[39m)\n\u001b[0;32m--> 839\u001b[0m \u001b[38;5;28;01massert\u001b[39;00m x \u001b[38;5;241m!=\u001b[39m y, \u001b[38;5;124m\"\u001b[39m\u001b[38;5;124mx and y must be independent\u001b[39m\u001b[38;5;124m\"\u001b[39m\n\u001b[1;32m    840\u001b[0m \u001b[38;5;28;01mif\u001b[39;00m \u001b[38;5;28misinstance\u001b[39m(covar, \u001b[38;5;28mlist\u001b[39m):\n\u001b[1;32m    841\u001b[0m     \u001b[38;5;28;01massert\u001b[39;00m x \u001b[38;5;129;01mnot\u001b[39;00m \u001b[38;5;129;01min\u001b[39;00m covar, \u001b[38;5;124m\"\u001b[39m\u001b[38;5;124mx and covar must be independent\u001b[39m\u001b[38;5;124m\"\u001b[39m\n",
      "\u001b[0;31mAssertionError\u001b[0m: x and y must be independent"
     ]
    }
   ],
   "source": [
    "import torch\n",
    "from scipy.io import loadmat\n",
    "healthy_connectome = loadmat('/media/hang/EXTERNAL_US/Data/1_HANG_FDG_PET/IndividualConnectome/bl_CN_as_reference/healthyReference.mat')['healthySUVRValues']\n",
    "\n",
    "import pandas as pd\n",
    "\n",
    "healthy_connectome = pd.DataFrame(healthy_connectome)\n",
    "healthy_connectome\n",
    "\n",
    "import pingouin as pg\n",
    "\n",
    "pg.partial_corr(healthy_connectome)"
   ]
  },
  {
   "cell_type": "code",
   "execution_count": 13,
   "metadata": {},
   "outputs": [
    {
     "data": {
      "text/plain": [
       "0.024694334048103207"
      ]
     },
     "execution_count": 13,
     "metadata": {},
     "output_type": "execute_result"
    }
   ],
   "source": [
    "import numpy as np\n",
    "np.mean(healthy_connectome)\n",
    "\n"
   ]
  }
 ],
 "metadata": {
  "kernelspec": {
   "display_name": "Python 3",
   "language": "python",
   "name": "python3"
  },
  "language_info": {
   "codemirror_mode": {
    "name": "ipython",
    "version": 3
   },
   "file_extension": ".py",
   "mimetype": "text/x-python",
   "name": "python",
   "nbconvert_exporter": "python",
   "pygments_lexer": "ipython3",
   "version": "3.9.19"
  }
 },
 "nbformat": 4,
 "nbformat_minor": 2
}
